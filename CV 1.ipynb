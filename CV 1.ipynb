{
 "cells": [
  {
   "cell_type": "markdown",
   "id": "c810ae5d-36c8-40bc-aca1-d43f372da2b0",
   "metadata": {},
   "source": [
    "1. What exactly is a feature?"
   ]
  },
  {
   "cell_type": "markdown",
   "id": "05edc626-1424-4642-ae9f-869265745dba",
   "metadata": {},
   "source": [
    "In CNN,matrix of input image or value of column."
   ]
  },
  {
   "cell_type": "markdown",
   "id": "4724ccf5-544a-450e-8cf2-56ba91b19b0f",
   "metadata": {},
   "source": [
    "2. For a top edge detector, write out the convolutional kernel matrix.\n"
   ]
  },
  {
   "cell_type": "code",
   "execution_count": 2,
   "id": "181b4853-29b2-481e-a6e0-95cbc29bc75f",
   "metadata": {},
   "outputs": [
    {
     "data": {
      "text/plain": [
       "'[-1,-1,-1]\\n   [0,0,0]\\n   [1,1,1]\\n   [1,1,1]'"
      ]
     },
     "execution_count": 2,
     "metadata": {},
     "output_type": "execute_result"
    }
   ],
   "source": [
    "   [-1,-1,-1]\n",
    "   [0,0,0]\n",
    "   [1,1,1]\n",
    "   [1,1,1]"
   ]
  },
  {
   "cell_type": "markdown",
   "id": "ef827666-84b3-414a-9ced-cb3a2fc05d72",
   "metadata": {},
   "source": [
    "3. Describe the mathematical operation that a 3x3 kernel performs on a single pixel in an image.\n"
   ]
  },
  {
   "cell_type": "markdown",
   "id": "fd8496b0-2e56-4acb-8e13-b5742effcd56",
   "metadata": {},
   "source": [
    "Let image size is 6x6 with 3x3 filter apply on it and feature map size will be 4x4.We use itemwise multiplication of \n",
    "filter to pixel of image and move on."
   ]
  },
  {
   "cell_type": "markdown",
   "id": "6ac2a8a3-e03a-4802-801e-8287ade46582",
   "metadata": {},
   "source": [
    "4. What is the significance of a convolutional kernel added to a 3x3 matrix of zeroes?\n"
   ]
  },
  {
   "cell_type": "markdown",
   "id": "73cccc1b-aa17-4a89-a773-ead2bac8b8c1",
   "metadata": {},
   "source": [
    "When the convolution kernal or filter with different size is added to 3x3 matrix of zeros then all the values become zero."
   ]
  },
  {
   "cell_type": "markdown",
   "id": "7512eee4-c746-44ae-a0d9-1e0dff7b97a8",
   "metadata": {},
   "source": [
    "5. What exactly is padding?\n"
   ]
  },
  {
   "cell_type": "markdown",
   "id": "2a63e384-7914-47da-8945-4fbf1ceccb5c",
   "metadata": {},
   "source": [
    "With padding we add the outside bounday with zero number. using this we get the same size of image after apply\n",
    "different filters else we got different size and that size calculated by a formula n-p-1\n",
    "add rows and columns to get a desired output size."
   ]
  },
  {
   "cell_type": "markdown",
   "id": "d0dbe9ed-8cf8-43ec-90c2-9cf512432a79",
   "metadata": {},
   "source": [
    "6. What is the concept of stride?\n"
   ]
  },
  {
   "cell_type": "markdown",
   "id": "0c6b096d-006e-49bd-a293-42746d7583b7",
   "metadata": {},
   "source": [
    "reduce size by a large factor, we set the stride when the filter is multiplication by image. The stride is useful to find \n",
    "the major and minor feature."
   ]
  },
  {
   "cell_type": "markdown",
   "id": "331b32ed-437c-4a19-ab91-9df66690adc1",
   "metadata": {},
   "source": [
    "7. What are the shapes of PyTorch' 2D convolution's input and weight parameters?\n"
   ]
  },
  {
   "cell_type": "markdown",
   "id": "bcb7617d-5d67-4905-9e4a-bfd3be22cc93",
   "metadata": {
    "jp-MarkdownHeadingCollapsed": true,
    "tags": []
   },
   "source": [
    "2d"
   ]
  },
  {
   "cell_type": "markdown",
   "id": "bcdeb178-efce-4eb1-9ef4-9fa8f6c70999",
   "metadata": {},
   "source": [
    "8. What exactly is a channel?\n"
   ]
  },
  {
   "cell_type": "markdown",
   "id": "a3b7018a-38c8-4a9a-8057-5cdab6836201",
   "metadata": {},
   "source": [
    "Just like any other layer,a convolutional layer recieves input, transforms the input in some way, and then outputs the \n",
    "transformed input to the next layer. The inputs to convolutional layers are called input channels, and the outputs are\n",
    "called output channels."
   ]
  },
  {
   "cell_type": "markdown",
   "id": "69813b8e-bd99-4936-8214-d3e542ad2145",
   "metadata": {},
   "source": [
    "9.Explain relationship between matrix multiplication and a convolution?\n"
   ]
  },
  {
   "cell_type": "markdown",
   "id": "90f3ad2d-32b0-4600-9f2f-71d576a77461",
   "metadata": {},
   "source": [
    "In mathametic we can call as two matrix will be concolution but in CNN we can two matrix is convolution."
   ]
  },
  {
   "cell_type": "code",
   "execution_count": null,
   "id": "2cc3ee48-516c-43f7-ad54-add158371d3b",
   "metadata": {},
   "outputs": [],
   "source": []
  }
 ],
 "metadata": {
  "kernelspec": {
   "display_name": "Python 3 (ipykernel)",
   "language": "python",
   "name": "python3"
  },
  "language_info": {
   "codemirror_mode": {
    "name": "ipython",
    "version": 3
   },
   "file_extension": ".py",
   "mimetype": "text/x-python",
   "name": "python",
   "nbconvert_exporter": "python",
   "pygments_lexer": "ipython3",
   "version": "3.10.6"
  }
 },
 "nbformat": 4,
 "nbformat_minor": 5
}
