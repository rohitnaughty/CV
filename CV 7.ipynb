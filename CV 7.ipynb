{
 "cells": [
  {
   "cell_type": "markdown",
   "id": "e9909319-fd33-4aff-a2df-fb254ccd2ada",
   "metadata": {},
   "source": [
    "Question- What is the COVARIATE SHIFT Issue, and how does it affect you?\n"
   ]
  },
  {
   "cell_type": "markdown",
   "id": "b4e974a0-79e9-4dd9-85af-519d2d8909b8",
   "metadata": {},
   "source": [
    "Covariate shift refers to the change in the distribution of the input variables present in the training and the test data.\n"
   ]
  },
  {
   "cell_type": "markdown",
   "id": "29e0a535-1f8f-4aa7-aeca-71c9f403ec39",
   "metadata": {},
   "source": [
    "Question- What is the process of BATCH NORMALIZATION?\n"
   ]
  },
  {
   "cell_type": "markdown",
   "id": "55efc2be-cd33-46f4-bb86-4bbc3f7801d6",
   "metadata": {},
   "source": [
    "Batch normalization (also known as batch norm)is a method used to make  training of artificial neural networks faster and more\n",
    "stable through normalization of the layers input byt re-centering and re-scaling."
   ]
  },
  {
   "cell_type": "markdown",
   "id": "396e42f6-c50e-435f-82de-1173eb62f494",
   "metadata": {},
   "source": [
    "Question- Using our own terms and diagrams, explain LENET ARCHITECTURE.\n"
   ]
  },
  {
   "cell_type": "markdown",
   "id": "2e36b1d9-7817-490e-9c8a-37f1897a3b1b",
   "metadata": {},
   "source": [
    "LeNet-5 CNN architecture is made up of 7 layers.The layer composition consisits of 3 convolutional layers, 2 subsampling\n",
    "layers and fully connected layers."
   ]
  },
  {
   "cell_type": "markdown",
   "id": "145b5604-be59-4d5e-bfbd-4b74b3c2b387",
   "metadata": {},
   "source": [
    "Question- Using our own terms and diagrams, explain ALEXNET ARCHITECTURE.\n"
   ]
  },
  {
   "cell_type": "markdown",
   "id": "b57c451b-65d3-439e-92b7-40bf0702eae4",
   "metadata": {},
   "source": [
    "AlexNet architecture consists of 5 convolutional layers, 3 max-pooling layers, 2 normalization layers, 2 fully connected \n",
    "layers, and 1 softmax layer."
   ]
  },
  {
   "cell_type": "markdown",
   "id": "b1a98c2b-e7e4-4822-8d0c-ea4e69142d8e",
   "metadata": {},
   "source": [
    "Question- Describe the vanishing gradient problem.\n"
   ]
  },
  {
   "cell_type": "markdown",
   "id": "c40722f6-27db-4cff-800c-571af836ba2a",
   "metadata": {},
   "source": [
    "When there are more layers in the network, the value of the product of derivative decreases until at some point the \n",
    "partial derivative of the loss function  approaches a value close to zero, and the partial derivative vanishes."
   ]
  },
  {
   "cell_type": "markdown",
   "id": "d0a5fe12-3c7c-4754-bed8-065be5c79a41",
   "metadata": {},
   "source": [
    "Question- What is NORMALIZATION OF LOCAL RESPONSE?\n"
   ]
  },
  {
   "cell_type": "markdown",
   "id": "93128440-4f92-4893-a8e4-089312a69dd7",
   "metadata": {},
   "source": [
    "LRN is a Non-trained layer that sequare- normalizes the pixel values in a feature map within a local neighborhood."
   ]
  },
  {
   "cell_type": "markdown",
   "id": "cce722d9-efaf-4875-8db3-2a475811464b",
   "metadata": {},
   "source": [
    "Question- In AlexNet, what WEIGHT REGULARIZATION was used?\n"
   ]
  },
  {
   "cell_type": "markdown",
   "id": "446722fb-8264-47a4-9bda-bcc97878078e",
   "metadata": {},
   "source": [
    "The AlexNet architecture used a different method of normalization within the network: Local Response Normalization (LRN)."
   ]
  },
  {
   "cell_type": "markdown",
   "id": "07c01497-d945-4346-9dea-dc24cfa413a2",
   "metadata": {},
   "source": [
    "Question- Using our own terms and diagrams, explain VGGNET ARCHITECTURE.\n"
   ]
  },
  {
   "cell_type": "markdown",
   "id": "3a115d34-0d90-402b-8472-6be6ebdb0d6a",
   "metadata": {},
   "source": [
    "VGG stands for Visual Geometry Group, it is a standard deep Convolutional Neural Network (CNN) architecture with multiple \n",
    "layers. The \"deep\" refers to the number of layers with VGG-16 or VGG-19 consisiting of 16 and 19 convolutional layers."
   ]
  },
  {
   "cell_type": "markdown",
   "id": "6566fe35-43b2-481d-94a7-db0c39a79746",
   "metadata": {},
   "source": [
    "Question- Describe VGGNET CONFIGURATIONS.\n"
   ]
  },
  {
   "cell_type": "markdown",
   "id": "68717691-1455-49fe-82c7-ffb683694c4c",
   "metadata": {},
   "source": [
    "A stack of multiple (usually 1,2, or 3) convolution layers of filter size 3 x 3 , stride one, and padding 1, following by a\n",
    "max-pooling layer of size 2 x 2, is the basic building block for all of those configurations."
   ]
  },
  {
   "cell_type": "markdown",
   "id": "c85518f3-3e95-4576-8954-dab9114a85b0",
   "metadata": {},
   "source": [
    "Question- What regularization methods are used in VGGNET to prevent overfitting?\n"
   ]
  },
  {
   "cell_type": "markdown",
   "id": "aab6462b-68da-4ef1-a0b8-95661558c98e",
   "metadata": {},
   "source": [
    "l2"
   ]
  },
  {
   "cell_type": "code",
   "execution_count": null,
   "id": "bf2b271a-43f9-474f-9299-ce820fc4ef15",
   "metadata": {},
   "outputs": [],
   "source": []
  }
 ],
 "metadata": {
  "kernelspec": {
   "display_name": "Python 3 (ipykernel)",
   "language": "python",
   "name": "python3"
  },
  "language_info": {
   "codemirror_mode": {
    "name": "ipython",
    "version": 3
   },
   "file_extension": ".py",
   "mimetype": "text/x-python",
   "name": "python",
   "nbconvert_exporter": "python",
   "pygments_lexer": "ipython3",
   "version": "3.10.6"
  }
 },
 "nbformat": 4,
 "nbformat_minor": 5
}
