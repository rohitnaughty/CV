{
 "cells": [
  {
   "cell_type": "markdown",
   "id": "57a73be0-4e4d-4dfc-9bdc-a578c185f723",
   "metadata": {},
   "source": [
    "1. After each stride-2 conv, why do we double the number of filters?"
   ]
  },
  {
   "cell_type": "markdown",
   "id": "0bbea4d5-9e71-44cb-a7d5-0f774a1d708f",
   "metadata": {},
   "source": [
    "Because we're decreasing the number of activations in the activation map by a factor of 4, We don't want to decrease the \n",
    "capacity of a layer by too much at a time."
   ]
  },
  {
   "cell_type": "markdown",
   "id": "9b2e3022-3085-4f9e-8ac8-fe68b4be4245",
   "metadata": {},
   "source": [
    "2. Why do we use a larger kernel with MNIST (with simple cnn) in the first conv?"
   ]
  },
  {
   "cell_type": "markdown",
   "id": "fc034397-111f-47ae-9480-1f5f2bfc580f",
   "metadata": {},
   "source": [
    "I don't think so, we can small kernal. If we use larger kernal in mnist then its good for edges detection."
   ]
  },
  {
   "cell_type": "markdown",
   "id": "235c6b54-f9f2-4952-9d01-6fe9d04f78dd",
   "metadata": {},
   "source": [
    "3. What data is saved by ActivationStats for each layer?\n",
    "weight and bias data\n",
    "\n"
   ]
  },
  {
   "cell_type": "markdown",
   "id": "41572caa-42d8-40e6-a21e-c7f2f6365644",
   "metadata": {},
   "source": [
    "Weight and bias data"
   ]
  },
  {
   "cell_type": "markdown",
   "id": "7288309f-ee67-4f8e-b42b-2038e4461316",
   "metadata": {},
   "source": [
    "4. How do we get a learner's callback after they've completed training?\n"
   ]
  },
  {
   "cell_type": "markdown",
   "id": "e291fa5c-b930-4a71-ace1-9d455384c487",
   "metadata": {},
   "source": [
    "my_callbacks = [ tf.keras.callbacks.EarlyStopping(patience=2), tf.keras.callbacks.ModelCheckpoint(filepath='model.{epoch:02d}-{val_loss:.2f}.h5'), tf.keras.callbacks.TensorBoard(log_dir='./logs'), ] model.fit(dataset, epochs=10, callbacks=my_callbacks)\n",
    "\n"
   ]
  },
  {
   "cell_type": "markdown",
   "id": "abd77ca6-e30c-4793-a61e-360322bcc279",
   "metadata": {},
   "source": [
    "5. What are the drawbacks of activations above zero?"
   ]
  },
  {
   "cell_type": "markdown",
   "id": "90160a49-c70d-4cb9-90d7-8937a1d5448a",
   "metadata": {},
   "source": [
    "Non zero centered"
   ]
  },
  {
   "cell_type": "markdown",
   "id": "4a18e942-208d-42c5-8a32-c52b2b871256",
   "metadata": {},
   "source": [
    "6.Draw up the benefits and drawbacks of practicing in larger batches?"
   ]
  },
  {
   "cell_type": "markdown",
   "id": "c7d22281-aa37-4647-8503-8a067859e473",
   "metadata": {},
   "source": [
    "Large batches got fast training but less generalize."
   ]
  },
  {
   "cell_type": "markdown",
   "id": "dd179bfc-ad63-47d5-b519-1c1830f0bcaa",
   "metadata": {},
   "source": [
    "7. Why should we avoid starting training with a high learning rate?"
   ]
  },
  {
   "cell_type": "markdown",
   "id": "42450590-27be-4f84-b722-13df29beee55",
   "metadata": {},
   "source": [
    "overshooting the minima \n",
    "\n",
    "convergence problem"
   ]
  },
  {
   "cell_type": "markdown",
   "id": "629fa7db-31ae-457f-8f4c-2d1973d8bbc9",
   "metadata": {},
   "source": [
    "8. What are the pros of studying with a high rate of learning?"
   ]
  },
  {
   "cell_type": "markdown",
   "id": "aa19b7ac-6f35-45e2-97b6-13aad4e1ebdf",
   "metadata": {},
   "source": [
    "Model to converge too quickly to a suboptimal solution."
   ]
  },
  {
   "cell_type": "markdown",
   "id": "f9104e56-999f-4eb9-b2b2-2096a0f48e37",
   "metadata": {},
   "source": [
    "9. Why do we want to end the training with a low learning rate?\n"
   ]
  },
  {
   "cell_type": "markdown",
   "id": "5bc702c6-d456-42c0-be2e-69818be3e32e",
   "metadata": {},
   "source": [
    "More optimal or even globally optimal set of weights.\n",
    "\n"
   ]
  },
  {
   "cell_type": "code",
   "execution_count": null,
   "id": "8ac123b9-83e8-407f-8559-59186ec3db91",
   "metadata": {},
   "outputs": [],
   "source": []
  }
 ],
 "metadata": {
  "kernelspec": {
   "display_name": "Python 3 (ipykernel)",
   "language": "python",
   "name": "python3"
  },
  "language_info": {
   "codemirror_mode": {
    "name": "ipython",
    "version": 3
   },
   "file_extension": ".py",
   "mimetype": "text/x-python",
   "name": "python",
   "nbconvert_exporter": "python",
   "pygments_lexer": "ipython3",
   "version": "3.10.6"
  }
 },
 "nbformat": 4,
 "nbformat_minor": 5
}
