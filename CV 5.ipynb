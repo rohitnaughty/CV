{
 "cells": [
  {
   "cell_type": "markdown",
   "id": "e55e9b0b-386c-4fda-a258-aa79f2842636",
   "metadata": {},
   "source": [
    "1. How can each of these parameters be fine-tuned? • Number of hidden layers\n",
    "\n",
    "Network architecture (network depth)\n",
    "\n",
    "Each layer's number of neurons (layer width)\n",
    "\n",
    "Form of activation\n",
    "\n",
    "Optimization and learning\n",
    "\n",
    "Learning rate and decay schedule\n",
    "\n",
    "Mini batch size\n",
    "\n",
    "Algorithms for optimization\n",
    "\n",
    "The number of epochs (and early stopping criteria)\n",
    "\n",
    "Overfitting that be avoided by using regularization techniques.\n",
    "\n",
    "L2 normalization\n",
    "\n",
    "Drop out layers\n",
    "\n",
    "Data augmentation\n",
    "\n",
    "I follow documentation, Blogs, videos and copypaste. some example are given below. these parameter are tune by keras.tuner.\n",
    "\n"
   ]
  },
  {
   "cell_type": "code",
   "execution_count": 2,
   "id": "9bf6aafe-cd26-43ac-bdfc-fc65bfb3fdee",
   "metadata": {},
   "outputs": [],
   "source": [
    "def build_model(hp):  \n",
    "  model = keras.Sequential([\n",
    "    keras.layers.Conv2D(\n",
    "        filters=hp.Int('conv_1_filter', min_value=32, max_value=128, step=16),\n",
    "        kernel_size=hp.Choice('conv_1_kernel', values = [3,5]),\n",
    "        activation='relu',\n",
    "        input_shape=(28,28,1)\n",
    "    ),\n",
    "    keras.layers.Conv2D(\n",
    "        filters=hp.Int('conv_2_filter', min_value=32, max_value=64, step=16),\n",
    "        kernel_size=hp.Choice('conv_2_kernel', values = [3,5]),\n",
    "        activation='relu'\n",
    "    ),\n",
    "    keras.layers.Flatten(),\n",
    "    keras.layers.Dense(\n",
    "        units=hp.Int('dense_1_units', min_value=32, max_value=128, step=16),\n",
    "        activation='relu'\n",
    "    ),\n",
    "    keras.layers.Dense(10, activation='softmax')\n",
    "  ])\n",
    "  \n",
    "  model.compile(optimizer=keras.optimizers.Adam(hp.Choice('learning_rate', values=[1e-2, 1e-3])),\n",
    "              loss='sparse_categorical_crossentropy',\n",
    "              metrics=['accuracy'])\n",
    "  \n",
    "  return model"
   ]
  },
  {
   "cell_type": "code",
   "execution_count": null,
   "id": "3fef0da9-c1eb-495b-bcfd-3518f17ce0a7",
   "metadata": {},
   "outputs": [],
   "source": []
  }
 ],
 "metadata": {
  "kernelspec": {
   "display_name": "Python 3 (ipykernel)",
   "language": "python",
   "name": "python3"
  },
  "language_info": {
   "codemirror_mode": {
    "name": "ipython",
    "version": 3
   },
   "file_extension": ".py",
   "mimetype": "text/x-python",
   "name": "python",
   "nbconvert_exporter": "python",
   "pygments_lexer": "ipython3",
   "version": "3.10.6"
  }
 },
 "nbformat": 4,
 "nbformat_minor": 5
}
