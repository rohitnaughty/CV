{
 "cells": [
  {
   "cell_type": "markdown",
   "id": "bdaf8e46-acde-45e5-9942-018f39b21d0a",
   "metadata": {},
   "source": [
    "1. What is the difference between TRAINABLE and NON-TRAINABLE PARAMETERS ?\n"
   ]
  },
  {
   "cell_type": "markdown",
   "id": "df2ec063-d919-41ac-a8ed-5c2066cf9e10",
   "metadata": {},
   "source": [
    "By default, all weights in a keras model are trainable. When you make them untrainable.Non trainable parameters are those \n",
    "which value is not optimized during the training as per their gradient."
   ]
  },
  {
   "cell_type": "markdown",
   "id": "45afa532-0b0b-4cfc-9996-8169a86c6989",
   "metadata": {},
   "source": [
    "2. In the CNN architecture, where does the DROPOUT LAYER go ?\n"
   ]
  },
  {
   "cell_type": "markdown",
   "id": "6cb395b9-c76d-4560-a24a-e1e390a11945",
   "metadata": {},
   "source": [
    "Dropout can be applied to hidden neurons in the body of your network model. In the example below, Dropout is applied between \n",
    "the two hidden layers and between the last hidden layer and the output layer."
   ]
  },
  {
   "cell_type": "markdown",
   "id": "ef5b8063-b0f1-4eba-be59-7733949b1072",
   "metadata": {},
   "source": [
    "3. What is the optimal number of hidden layers to stack ?\n"
   ]
  },
  {
   "cell_type": "markdown",
   "id": "1df26bf1-cb70-4d32-8f3b-38fc16d40479",
   "metadata": {},
   "source": [
    "Large no of layer with less neurons."
   ]
  },
  {
   "cell_type": "markdown",
   "id": "14f9814b-7cad-415a-96a1-8006eacd2b6e",
   "metadata": {},
   "source": [
    "4. In each layer, how many secret units or filters should there be ?\n"
   ]
  },
  {
   "cell_type": "markdown",
   "id": "05250c4c-c7ac-461a-9ec9-01ae68f895ec",
   "metadata": {},
   "source": [
    "32 to 512"
   ]
  },
  {
   "cell_type": "markdown",
   "id": "0824dc32-7d4f-4638-895e-d091e2efc203",
   "metadata": {},
   "source": [
    "5. What should your initial learning rate be ?\n"
   ]
  },
  {
   "cell_type": "markdown",
   "id": "cd867b63-a4af-4ab9-95d1-55c14a4badfa",
   "metadata": {},
   "source": [
    "0.1 or 0.01.we can use learning rate scheduler. "
   ]
  },
  {
   "cell_type": "markdown",
   "id": "7f027f45-5e07-4f34-8cd4-f7c15e640db9",
   "metadata": {},
   "source": [
    "\n",
    "6. What do you do with the activation function ?\n"
   ]
  },
  {
   "cell_type": "markdown",
   "id": "d568c90a-d74b-43ea-b865-97278634684f",
   "metadata": {},
   "source": [
    "summition or decide output of input.\n",
    "\n"
   ]
  },
  {
   "cell_type": "markdown",
   "id": "cbed8993-3a2b-4797-8cee-4ae4714624d5",
   "metadata": {},
   "source": [
    "7. What is NORMALIZATION OF DATA ?\n"
   ]
  },
  {
   "cell_type": "markdown",
   "id": "f3f59f4c-de73-4ea5-bd4e-946b60c68b1b",
   "metadata": {},
   "source": [
    "Scaling the data for fast training."
   ]
  },
  {
   "cell_type": "markdown",
   "id": "65886d06-f997-4752-8084-ee8c466a34e2",
   "metadata": {},
   "source": [
    "8. What is IMAGE AUGMENTATION and how does it work ?\n"
   ]
  },
  {
   "cell_type": "markdown",
   "id": "3a82ee38-c4ea-4a7d-a376-08f541f2d3f7",
   "metadata": {},
   "source": [
    "Image augmentation artificially creates training image throught different ways of processing or combination of multiple \n",
    "processing, such as random rotation, shifts , shear and flips, etc."
   ]
  },
  {
   "cell_type": "markdown",
   "id": "337dd5b0-4361-4fec-a806-1a4f3a5c5d5a",
   "metadata": {},
   "source": [
    "9. What is DECLINE IN LEARNING RATE ?\n"
   ]
  },
  {
   "cell_type": "markdown",
   "id": "aabce4c9-a428-4311-8958-cb2dfb120be8",
   "metadata": {},
   "source": [
    "The learning rate that leads to the greatest gradient decline is  a suitable learning rate."
   ]
  },
  {
   "cell_type": "markdown",
   "id": "a111d4a5-9e58-453b-9863-8dc1220a1188",
   "metadata": {},
   "source": [
    "\n",
    "10. What does EARLY STOPPING CRITERIA mean ?\n"
   ]
  },
  {
   "cell_type": "markdown",
   "id": "5be345c2-51e2-4077-93c5-ed878dce1b18",
   "metadata": {},
   "source": [
    "Save high accuracy or lor testing loss mode and stop training."
   ]
  },
  {
   "cell_type": "code",
   "execution_count": null,
   "id": "4abfdffd-b7b0-435f-b163-6cf8f0575ac8",
   "metadata": {},
   "outputs": [],
   "source": []
  },
  {
   "cell_type": "code",
   "execution_count": null,
   "id": "92f57b53-d1b0-4bce-a9e8-cc2746e4a0a0",
   "metadata": {},
   "outputs": [],
   "source": []
  }
 ],
 "metadata": {
  "kernelspec": {
   "display_name": "Python 3 (ipykernel)",
   "language": "python",
   "name": "python3"
  },
  "language_info": {
   "codemirror_mode": {
    "name": "ipython",
    "version": 3
   },
   "file_extension": ".py",
   "mimetype": "text/x-python",
   "name": "python",
   "nbconvert_exporter": "python",
   "pygments_lexer": "ipython3",
   "version": "3.10.6"
  }
 },
 "nbformat": 4,
 "nbformat_minor": 5
}
