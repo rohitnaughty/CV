{
 "cells": [
  {
   "cell_type": "markdown",
   "id": "b70c3b9b-cd39-4881-8fca-815d1c862efc",
   "metadata": {},
   "source": [
    "1. Why don't we start all of the weights with zeros?\n"
   ]
  },
  {
   "cell_type": "markdown",
   "id": "9dfdb86a-14a7-4b7b-bf2d-5ece2af90654",
   "metadata": {},
   "source": [
    "Initializing all the weight with zeros leads the neurons to learn the same features during training. In fact, any constant \n",
    "initialization scheme will perform very poorly."
   ]
  },
  {
   "cell_type": "markdown",
   "id": "d0aac16f-721b-43bd-b3ca-28b55e6c6ae9",
   "metadata": {},
   "source": [
    "2. Why is it beneficial to start weights with a mean zero distribution?\n"
   ]
  },
  {
   "cell_type": "markdown",
   "id": "95c127fc-f78f-4e38-9375-3278715551be",
   "metadata": {},
   "source": [
    "Zero initialization cause the neuron to memorize the same functions almost in each iteration."
   ]
  },
  {
   "cell_type": "markdown",
   "id": "54df4692-a785-47f4-bd8b-799892f01b72",
   "metadata": {},
   "source": [
    "3. What is dilated convolution, and how does it work?\n"
   ]
  },
  {
   "cell_type": "markdown",
   "id": "c603ef53-020c-4fde-93ec-be823880ce67",
   "metadata": {},
   "source": [
    "Dilated Convolution:\n",
    "    \n",
    "    It is a technique that expands the kernal (input) by inserting holes between its consecutive elements."
   ]
  },
  {
   "cell_type": "markdown",
   "id": "75b03a95-f3ce-4ace-a521-7b29a61663b9",
   "metadata": {},
   "source": [
    "4. What is TRANSPOSED CONVOLUTION, and how does it work?\n"
   ]
  },
  {
   "cell_type": "markdown",
   "id": "94559e23-6f09-453f-ac6b-53b726ea3241",
   "metadata": {},
   "source": [
    "Transposed convolutions are standard convolution but with a modified input feature map. The stride and padding do not \n",
    "correspond to the number of zeros added around the image and the amount of shift in the kernel when sliding it across the \n",
    "input, as they would in a standard convolution operation."
   ]
  },
  {
   "cell_type": "markdown",
   "id": "4a07a89a-cce3-4be4-8bad-60d45e0889ab",
   "metadata": {},
   "source": [
    "5.Explain Separable convolution\n"
   ]
  },
  {
   "cell_type": "markdown",
   "id": "42a657f6-d7ed-4d70-8978-c198449a97e6",
   "metadata": {},
   "source": [
    "A Separable Convolution is a process in which a single convolution can be divided into two or more convolutions to produce the\n",
    "same output."
   ]
  },
  {
   "cell_type": "markdown",
   "id": "952c0bfa-0529-46a8-aaa2-3a16e04458f4",
   "metadata": {},
   "source": [
    "6.What is depthwise convolution, and how does it work?\n"
   ]
  },
  {
   "cell_type": "markdown",
   "id": "3e3657f8-5475-4622-aeca-0b898a4c1620",
   "metadata": {},
   "source": [
    "Depthwise Convolution is a type of convolution where we apply a single  convolutional filter for each input channel."
   ]
  },
  {
   "cell_type": "markdown",
   "id": "0b7c9039-b45c-4aa1-8a94-ef6f6cc6b8c5",
   "metadata": {},
   "source": [
    "\n",
    "\n",
    "7.What is Depthwise separable convolution, and how does it work?\n"
   ]
  },
  {
   "cell_type": "markdown",
   "id": "87df2aa3-afa5-4b67-b9f3-c13b5e44c6c9",
   "metadata": {},
   "source": [
    "The depth-wise operation, convolution is applied to a single channel at a time unlike standard CNN's in which it is done for\n",
    "all the M channels."
   ]
  },
  {
   "cell_type": "markdown",
   "id": "bf912eae-3b83-46dd-9849-3b91f4589b21",
   "metadata": {},
   "source": [
    "8.Capsule networks are what they sound like.\n"
   ]
  },
  {
   "cell_type": "markdown",
   "id": "aa7f3f3e-8d77-451f-82d8-f6546f73be61",
   "metadata": {},
   "source": [
    "Capsule networks achieve comparable results on MNIST, while requiring less training data. They are robust against small affine \n",
    "transformations. Also they are good for detecting overlapping objects. This is promising for image segmentation. its mimic \n",
    "like human eyes."
   ]
  },
  {
   "cell_type": "markdown",
   "id": "86487ddb-9e93-47bd-b483-30211b959a0a",
   "metadata": {},
   "source": [
    "9. Why is POOLING such an important operation in CNNs?\n"
   ]
  },
  {
   "cell_type": "markdown",
   "id": "ec9d6bab-8290-4ee5-a292-d81c5073031c",
   "metadata": {},
   "source": [
    "The main purpose of pooling is to reduce the size of feature maps, which in turn makes computation faster because the number \n",
    "of training parameters is reduced."
   ]
  },
  {
   "cell_type": "markdown",
   "id": "a4da1533-e52b-45ee-808d-53ce2086b5c5",
   "metadata": {},
   "source": [
    "10. What are receptive fields and how do they work?\n"
   ]
  },
  {
   "cell_type": "markdown",
   "id": "45111b6a-c5b0-4c08-99f3-0da3ca073975",
   "metadata": {},
   "source": [
    "The receptive field is defined as the size of the region in the input that produces the feature.\n",
    "\n",
    "The receptive field encompasses the sensory receptors that feed into sensory neurons and thus includes specific receptors on a\n",
    "neuron as well as collectives of receptors that are capable of activating a neuron via synaptic connections."
   ]
  },
  {
   "cell_type": "code",
   "execution_count": null,
   "id": "927e79c6-d7d1-4223-a4d3-97978dbe479b",
   "metadata": {},
   "outputs": [],
   "source": []
  }
 ],
 "metadata": {
  "kernelspec": {
   "display_name": "Python 3 (ipykernel)",
   "language": "python",
   "name": "python3"
  },
  "language_info": {
   "codemirror_mode": {
    "name": "ipython",
    "version": 3
   },
   "file_extension": ".py",
   "mimetype": "text/x-python",
   "name": "python",
   "nbconvert_exporter": "python",
   "pygments_lexer": "ipython3",
   "version": "3.10.6"
  }
 },
 "nbformat": 4,
 "nbformat_minor": 5
}
