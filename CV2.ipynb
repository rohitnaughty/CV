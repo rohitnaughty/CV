{
 "cells": [
  {
   "cell_type": "markdown",
   "id": "5d138ae8-8766-471c-86ee-8ca15956f898",
   "metadata": {},
   "source": [
    "1. Explain convolutional neural network, and how does it work?\n"
   ]
  },
  {
   "cell_type": "markdown",
   "id": "7f13b2bd-8277-44bd-bf79-da2701eb8b5e",
   "metadata": {},
   "source": [
    "Convolutional is used in grid like structure, time series and images.CNN inspration by human brain part visual context. We \n",
    "use cnn in images instead of ann because of low comutational cost, reduce overfitting and focus of important features.\n",
    "\n",
    "First of all in image matrix multiply by different kind of filter or detertor and tehe output is feature map.\n",
    "we use padding and stride for importance of feature then we use pooling layer.\n",
    "at the end we use flatting and connected to fully connected layer to neural network same as ann."
   ]
  },
  {
   "cell_type": "markdown",
   "id": "3151805d-4901-4a02-b493-a2e8aeece887",
   "metadata": {},
   "source": [
    "2. How does refactoring parts of your neural network definition favor you?"
   ]
  },
  {
   "cell_type": "markdown",
   "id": "2c74a37f-7ed1-407b-a03c-3b9cc21f904c",
   "metadata": {},
   "source": [
    "Using training of neural network is finding the best parameter and its become refastoring ."
   ]
  },
  {
   "cell_type": "markdown",
   "id": "85e60b6c-e7ef-4ed8-9e19-e2fa24c62c8b",
   "metadata": {},
   "source": [
    "3. What does it mean to flatten? Is it necessary to include it in the MNIST CNN? What is the reason for this?"
   ]
  },
  {
   "cell_type": "markdown",
   "id": "dab025e8-ad90-4568-bd27-bc7da88d2cba",
   "metadata": {},
   "source": [
    "Using flatten we convert a matrix to fullt connected layer and its necessart for training. without this we cannot\n",
    "training a image dataset for a purpose."
   ]
  },
  {
   "cell_type": "markdown",
   "id": "6ff84b5b-1ceb-4060-999e-1d2b952a27c0",
   "metadata": {},
   "source": [
    "4. What exactly does NCHW stand for?"
   ]
  },
  {
   "cell_type": "markdown",
   "id": "56e598fa-1834-4391-b626-bfc5eb9b33e2",
   "metadata": {},
   "source": [
    "NCHW stands for: batch N, channels C, depth D, heigth H, width W. It is a way to store multidimensional arrays / data\n",
    "frames / matrix into memory, which can be considered as a 1-D array."
   ]
  },
  {
   "cell_type": "markdown",
   "id": "d085c159-b8cd-4cc3-b5ea-6e957ecda615",
   "metadata": {},
   "source": [
    "5. Why are there 77(1168-16) multiplications in the MNIST CNN's third layer?\n"
   ]
  },
  {
   "cell_type": "markdown",
   "id": "dc07a758-dc66-466a-bb27-ab3371f55ad5",
   "metadata": {},
   "source": [
    "We can try different, I think it's come from experimental."
   ]
  },
  {
   "cell_type": "markdown",
   "id": "aef5f5fe-20bd-4d7b-a569-f1e4d16880f9",
   "metadata": {},
   "source": [
    "6.Explain definition of receptive field?"
   ]
  },
  {
   "cell_type": "markdown",
   "id": "9b5690d4-404e-4df7-a040-d9c03465457b",
   "metadata": {},
   "source": [
    "The region in the input space that a particulat CNN's feature is affected by"
   ]
  },
  {
   "cell_type": "markdown",
   "id": "b88f5174-82fc-4f32-a41f-955156acb9ec",
   "metadata": {},
   "source": [
    "7. What is the scale of an activation's receptive field after two stride-2 convolutions? What is the reason for this?"
   ]
  },
  {
   "cell_type": "markdown",
   "id": "1b3accee-18ae-47c6-ab7e-72992bc1deaf",
   "metadata": {},
   "source": [
    "If the stride is less then we try to focus of minor edges and is strides is high then focus in major edges.The scale of \n",
    "an activation receptive field after two strides-2 convolution depend of filter size."
   ]
  },
  {
   "cell_type": "markdown",
   "id": "afa35bb4-eeb2-46ee-8961-bcbbc549fe17",
   "metadata": {},
   "source": [
    "8. What is the tensor representation of a color image?"
   ]
  },
  {
   "cell_type": "markdown",
   "id": "e3395413-c774-441e-93b0-5fe58f8bcc3e",
   "metadata": {},
   "source": [
    "Tensors can be understood ad nested lists of objects of the previous order all with the same size.For example, an order three \n",
    "tensor can be thought of as a list of matrices all of which have the same number of rows and columns. These matrices are\n",
    "tensors of order two and since they have all the same number of rows and columms, the tensor of order three is actually like a \n",
    "cuboid of numbers and we can find numbers by going along any of the three-axis.Each number is identified by the row, the \n",
    "column, and the depth at which it's stored. We can formalize this idea in the concept of shape."
   ]
  },
  {
   "cell_type": "markdown",
   "id": "429c6f38-2c24-4b92-abd3-4de64cc61892",
   "metadata": {},
   "source": [
    "9. How does a color input interact with a convolution ?"
   ]
  },
  {
   "cell_type": "markdown",
   "id": "63bee418-d340-4f74-a09a-44cdc7a9807e",
   "metadata": {},
   "source": [
    "We need to convert the RGB images into black and white images."
   ]
  }
 ],
 "metadata": {
  "kernelspec": {
   "display_name": "Python 3 (ipykernel)",
   "language": "python",
   "name": "python3"
  },
  "language_info": {
   "codemirror_mode": {
    "name": "ipython",
    "version": 3
   },
   "file_extension": ".py",
   "mimetype": "text/x-python",
   "name": "python",
   "nbconvert_exporter": "python",
   "pygments_lexer": "ipython3",
   "version": "3.10.6"
  }
 },
 "nbformat": 4,
 "nbformat_minor": 5
}
